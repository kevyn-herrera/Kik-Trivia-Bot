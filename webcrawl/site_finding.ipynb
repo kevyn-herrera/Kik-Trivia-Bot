{
 "cells": [
  {
   "cell_type": "code",
   "execution_count": 51,
   "metadata": {
    "collapsed": true
   },
   "outputs": [],
   "source": [
    "from bs4 import BeautifulSoup as bs\n",
    "import urllib2\n",
    "import Queue\n",
    "import sqlite3"
   ]
  },
  {
   "cell_type": "code",
   "execution_count": 20,
   "metadata": {
    "collapsed": true
   },
   "outputs": [],
   "source": [
    "doc_name = 'sites.html'\n",
    "\n",
    "with open(doc_name) as fp:\n",
    "    soup = bs(fp, 'html.parser')\n",
    "# print(soup.prettify())"
   ]
  },
  {
   "cell_type": "code",
   "execution_count": 23,
   "metadata": {},
   "outputs": [
    {
     "name": "stdout",
     "output_type": "stream",
     "text": [
      "(0, u'http://www.religionresourcesonline.org/bible-quiz/print-52-women-in-the-old-testament-bible-quiz')\n",
      "(1, u'http://www.religionresourcesonline.org/bible-quiz/answers-52-women-in-the-old-testament-bible-quiz')\n",
      "(2, u'http://www.religionresourcesonline.org/bible-quiz/print-33-bible-quiz-who-said-that-new-testament-2')\n",
      "(3, u'http://www.religionresourcesonline.org/bible-quiz/answers-33-bible-quiz-who-said-that-new-testament-2')\n",
      "(4, u'http://www.religionresourcesonline.org/bible-quiz/print-3-bible-quiz-the-creation')\n",
      "(5, u'http://www.religionresourcesonline.org/bible-quiz/answers-3-bible-quiz-the-creation')\n",
      "(6, u'http://www.religionresourcesonline.org/bible-quiz/print-9-bible-quiz-noah-and-the-ark')\n",
      "(7, u'http://www.religionresourcesonline.org/bible-quiz/answers-9-bible-quiz-noah-and-the-ark')\n",
      "(8, u'http://www.religionresourcesonline.org/bible-quiz/print-302-bible-quiz-on-luke')\n",
      "(9, u'http://www.religionresourcesonline.org/bible-quiz/answers-302-bible-quiz-on-luke')\n",
      "(10, u'http://www.religionresourcesonline.org/bible-quiz/print-17-bible-quiz-moses-in-egypt')\n",
      "(11, u'http://www.religionresourcesonline.org/bible-quiz/answers-17-bible-quiz-moses-in-egypt')\n",
      "(12, u'http://www.religionresourcesonline.org/bible-quiz/print-14-jesus-parables-bible-quiz-hard')\n",
      "(13, u'http://www.religionresourcesonline.org/bible-quiz/answers-14-jesus-parables-bible-quiz-hard')\n",
      "(14, u'http://www.religionresourcesonline.org/bible-quiz/print-42-bible-quiz-plants-in-the-bible')\n",
      "(15, u'http://www.religionresourcesonline.org/bible-quiz/answers-42-bible-quiz-plants-in-the-bible')\n",
      "(16, u'http://www.religionresourcesonline.org/bible-quiz/print-13-bible-quiz-on-jesus-youth')\n",
      "(17, u'http://www.religionresourcesonline.org/bible-quiz/answers-13-bible-quiz-on-jesus-youth')\n",
      "(18, u'http://www.religionresourcesonline.org/bible-quiz/print-31-fillintheblank-bible-quiz-new-testament-scriptures-1')\n",
      "(19, u'http://www.religionresourcesonline.org/bible-quiz/answers-31-fillintheblank-bible-quiz-new-testament-scriptures-1')\n",
      "(20, u'http://www.religionresourcesonline.org/bible-quiz/print-18-bible-quiz-40-years-in-the-wilderness')\n",
      "(21, u'http://www.religionresourcesonline.org/bible-quiz/answers-18-bible-quiz-40-years-in-the-wilderness')\n",
      "(22, u'http://www.religionresourcesonline.org/bible-quiz/print-20-bible-quiz-jesus-baptism')\n",
      "(23, u'http://www.religionresourcesonline.org/bible-quiz/answers-20-bible-quiz-jesus-baptism')\n",
      "(24, u'http://www.religionresourcesonline.org/bible-quiz/print-178-bible-quiz-on-moses-plagues-on-egypt')\n",
      "(25, u'http://www.religionresourcesonline.org/bible-quiz/answers-178-bible-quiz-on-moses-plagues-on-egypt')\n",
      "(26, u'http://www.religionresourcesonline.org/bible-quiz/print-21-bible-quiz-biblical-name-meanings-ae')\n",
      "(27, u'http://www.religionresourcesonline.org/bible-quiz/answers-21-bible-quiz-biblical-name-meanings-ae')\n",
      "(28, u'http://www.religionresourcesonline.org/bible-quiz/print-23-bible-quiz-biblical-name-meanings-nz')\n",
      "(29, u'http://www.religionresourcesonline.org/bible-quiz/answers-23-bible-quiz-biblical-name-meanings-nz')\n",
      "(30, u'http://www.religionresourcesonline.org/bible-quiz/print-243-bible-quiz-what-happened-first-old-testament')\n",
      "(31, u'http://www.religionresourcesonline.org/bible-quiz/answers-243-bible-quiz-what-happened-first-old-testament')\n",
      "(32, u'http://www.religionresourcesonline.org/bible-quiz/print-107-books-of-the-old-testament-bible-quiz')\n",
      "(33, u'http://www.religionresourcesonline.org/bible-quiz/answers-107-books-of-the-old-testament-bible-quiz')\n",
      "(34, u'http://www.religionresourcesonline.org/bible-quiz/print-19-bible-quiz-biblical-name-meanings-gm')\n",
      "(35, u'http://www.religionresourcesonline.org/bible-quiz/answers-19-bible-quiz-biblical-name-meanings-gm')\n",
      "(36, u'http://www.religionresourcesonline.org/bible-quiz/print-128-bible-quiz-before-or-after-old-testament-2')\n",
      "(37, u'http://www.religionresourcesonline.org/bible-quiz/answers-128-bible-quiz-before-or-after-old-testament-2')\n",
      "(38, u'http://www.religionresourcesonline.org/bible-quiz/print-77-general-bible-quiz')\n",
      "(39, u'http://www.religionresourcesonline.org/bible-quiz/answers-77-general-bible-quiz')\n",
      "(40, u'http://www.religionresourcesonline.org/bible-quiz/print-72-genesis-to-revelation-bible-quiz')\n",
      "(41, u'http://www.religionresourcesonline.org/bible-quiz/answers-72-genesis-to-revelation-bible-quiz')\n",
      "(42, u'http://www.religionresourcesonline.org/bible-quiz/print-111-general-bible-knowledge-quiz')\n",
      "(43, u'http://www.religionresourcesonline.org/bible-quiz/answers-111-general-bible-knowledge-quiz')\n",
      "(44, u'http://www.religionresourcesonline.org/bible-quiz/print-147-first-7-books-of-the-old-testament-bible-quiz')\n",
      "(45, u'http://www.religionresourcesonline.org/bible-quiz/answers-147-first-7-books-of-the-old-testament-bible-quiz')\n",
      "(46, u'http://www.religionresourcesonline.org/bible-quiz/print-193-the-life-of-daniel-bible-quiz-part-i')\n",
      "(47, u'http://www.religionresourcesonline.org/bible-quiz/answers-193-the-life-of-daniel-bible-quiz-part-i')\n",
      "(48, u'http://www.religionresourcesonline.org/bible-quiz/print-120-sarah-bible-quiz')\n",
      "(49, u'http://www.religionresourcesonline.org/bible-quiz/answers-120-sarah-bible-quiz')\n",
      "(50, u'http://www.religionresourcesonline.org/bible-quiz/print-434-test-your-knowledge-')\n",
      "(51, u'http://www.religionresourcesonline.org/bible-quiz/answers-434-test-your-knowledge-')\n",
      "(52, u'http://www.religionresourcesonline.org/bible-quiz/print-231-lbc-week-of-april-29-bible-quiz-end-times-prophecy')\n",
      "(53, u'http://www.religionresourcesonline.org/bible-quiz/answers-231-lbc-week-of-april-29-bible-quiz-end-times-prophecy')\n",
      "(54, u'http://www.religionresourcesonline.org/bible-quiz/print-617-atarem-eexam')\n",
      "(55, u'http://www.religionresourcesonline.org/bible-quiz/answers-617-atarem-eexam')\n",
      "(56, u'http://www.religionresourcesonline.org/bible-quiz/print-226-lbc-week-of-april-8-bible-quiz')\n",
      "(57, u'http://www.religionresourcesonline.org/bible-quiz/answers-226-lbc-week-of-april-8-bible-quiz')\n",
      "(58, u'http://www.religionresourcesonline.org/bible-quiz/print-228-lbc-week-of-april-15-bible-quiz')\n",
      "(59, u'http://www.religionresourcesonline.org/bible-quiz/answers-228-lbc-week-of-april-15-bible-quiz')\n",
      "(60, u'http://www.religionresourcesonline.org/bible-quiz/print-222-lbc-catchup-bible-quiz')\n",
      "(61, u'http://www.religionresourcesonline.org/bible-quiz/answers-222-lbc-catchup-bible-quiz')\n"
     ]
    }
   ],
   "source": [
    "valid_links = [link.get('href') for link in soup.find_all('a') if not 'bible-quiz-index' in str(link)]\n",
    "for i in range(len(valid_links)):\n",
    "    print(i, valid_links[i])"
   ]
  },
  {
   "cell_type": "code",
   "execution_count": 52,
   "metadata": {
    "collapsed": true
   },
   "outputs": [],
   "source": [
    "class Question:\n",
    "    def __init__(self, question, ref, num, parts):\n",
    "        self.question = question\n",
    "        self.ref = ref\n",
    "        self.num = num\n",
    "        self.parts = parts\n",
    "        self.ans = 'None'\n",
    "        \n",
    "    def add_ans(self, ans):\n",
    "        self.ans = ans\n",
    "        \n",
    "    def __str__(self):\n",
    "        q = \"\"\n",
    "        q += \"question: \" + self.question +\"\\n\"\n",
    "        q += \"ref: \"+self.ref + \"\\n\"\n",
    "        q += \"parts: \"+ str(self.parts)+\"\\n\"\n",
    "        q += \"ans: \" + str(self.ans) + \"\\n\"\n",
    "        return q"
   ]
  },
  {
   "cell_type": "code",
   "execution_count": 6,
   "metadata": {},
   "outputs": [],
   "source": [
    "for link in valid_links:\n",
    "    page = urllib2.urlopen(link).read()\n",
    "    soup = bs(page, 'html.parser')"
   ]
  },
  {
   "cell_type": "code",
   "execution_count": 53,
   "metadata": {
    "collapsed": true
   },
   "outputs": [],
   "source": [
    "def create_connection(db_file):\n",
    "    \"\"\" create a database connection to the SQLite database\n",
    "        specified by db_file\n",
    "    :param db_file: database file\n",
    "    :return: Connection object or None\n",
    "    \"\"\"\n",
    "    try:\n",
    "        conn = sqlite3.connect(db_file)\n",
    "        return conn\n",
    "    except Error as e:\n",
    "        print(e)\n",
    " \n",
    "    return None"
   ]
  },
  {
   "cell_type": "code",
   "execution_count": 68,
   "metadata": {},
   "outputs": [],
   "source": [
    "def create_rec(conn, q):\n",
    "    sql = ''' INSERT INTO questions(q_text, ref, num, ops, ans) VALUES(?,?,?,?,?) '''\n",
    "    cur = conn.cursor()\n",
    "    question_data = (q.question, q.ref, str(q.num), str(q.parts), q.ans)\n",
    "    cur.execute(sql, question_data)\n",
    "    return cur.lastrowid\n",
    "    "
   ]
  },
  {
   "cell_type": "code",
   "execution_count": 55,
   "metadata": {},
   "outputs": [],
   "source": [
    "question_link = urllib2.urlopen(valid_links[36]).read()\n",
    "question_html = bs(question_link, 'html.parser')\n",
    "\n",
    "# question_parts = []\n",
    "# for li in question_html.find_all('li', 'question'):\n",
    "#     for ul in li.find_all('ul', 'question-text'):\n",
    "#         question_parts.append([text.encode('ascii', 'ignore') for text in ul.stripped_strings])\n",
    "#         print(ul.text)    \n",
    "#         print(ul.find_all('span'))"
   ]
  },
  {
   "cell_type": "code",
   "execution_count": 66,
   "metadata": {},
   "outputs": [],
   "source": [
    "db_file = '../trivia.db'\n",
    "conn = create_connection(db_file)"
   ]
  },
  {
   "cell_type": "code",
   "execution_count": 71,
   "metadata": {},
   "outputs": [
    {
     "name": "stdout",
     "output_type": "stream",
     "text": [
      "61\n",
      "62\n",
      "63\n",
      "64\n",
      "65\n",
      "66\n",
      "67\n",
      "68\n",
      "69\n",
      "70\n",
      "71\n",
      "72\n",
      "73\n",
      "74\n",
      "75\n",
      "76\n",
      "77\n",
      "78\n",
      "79\n",
      "80\n"
     ]
    }
   ],
   "source": [
    "queue = Queue.Queue()\n",
    "for i in range(36, 38, 2):\n",
    "    question_link = urllib2.urlopen(valid_links[i]).read()\n",
    "    question_html = bs(question_link, 'html.parser')\n",
    "    answer_link = urllib2.urlopen(valid_links[i+1]).read()\n",
    "    answer_html = bs(answer_link, 'html.parser')\n",
    "    \n",
    "    for li in question_html.find_all('li', 'question'):\n",
    "        for ul in li.find_all('ul', 'question-text'):\n",
    "            parts = [text.encode('ascii', 'ignore') for text in ul.stripped_strings]\n",
    "            ques = parts.pop(0)\n",
    "            ref = 'None'\n",
    "            if ul.find_all('span') != []:\n",
    "                ref = parts.pop(0)\n",
    "            queue.put(Question(ques, ref, len(parts), parts))\n",
    "    \n",
    "    answer_parts = []\n",
    "    for li in answer_html.find_all('li', 'question'):\n",
    "        for ul in li.find_all('ul', 'question-text'):\n",
    "            answer_parts.append([text.encode('ascii', 'ignore') for text in ul.stripped_strings])\n",
    "\n",
    "    \n",
    "    for j in range(len(answer_parts)):\n",
    "        q = queue.get()\n",
    "        if q.ref == 'None':\n",
    "            q.add_ans(answer_parts[j][1])\n",
    "        else:\n",
    "            q.add_ans(answer_parts[j][2])\n",
    "#         print(q)\n",
    "        print(create_rec(conn, q))\n",
    "#     for question in question_parts:\n",
    "#         print(question)\n",
    "    conn.commit()"
   ]
  },
  {
   "cell_type": "code",
   "execution_count": 72,
   "metadata": {
    "collapsed": true
   },
   "outputs": [],
   "source": [
    "conn.close()"
   ]
  },
  {
   "cell_type": "code",
   "execution_count": null,
   "metadata": {
    "collapsed": true
   },
   "outputs": [],
   "source": []
  }
 ],
 "metadata": {
  "kernelspec": {
   "display_name": "Python 3",
   "language": "python",
   "name": "python3"
  },
  "language_info": {
   "codemirror_mode": {
    "name": "ipython",
    "version": 2
   },
   "file_extension": ".py",
   "mimetype": "text/x-python",
   "name": "python",
   "nbconvert_exporter": "python",
   "pygments_lexer": "ipython2",
   "version": "2.7.13"
  }
 },
 "nbformat": 4,
 "nbformat_minor": 2
}
