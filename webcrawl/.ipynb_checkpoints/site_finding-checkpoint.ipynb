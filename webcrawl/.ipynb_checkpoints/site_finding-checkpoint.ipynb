{
 "cells": [
  {
   "cell_type": "code",
   "execution_count": 2,
   "metadata": {},
   "outputs": [],
   "source": [
    "from bs4 import BeautifulSoup as bs"
   ]
  },
  {
   "cell_type": "code",
   "execution_count": 17,
   "metadata": {},
   "outputs": [],
   "source": [
    "doc_name = 'sites.html'\n",
    "\n",
    "with open(doc_name) as fp:\n",
    "    soup = bs(fp, 'html.parser')\n",
    "# print(soup.prettify())"
   ]
  },
  {
   "cell_type": "code",
   "execution_count": 16,
   "metadata": {},
   "outputs": [
    {
     "name": "stdout",
     "output_type": "stream",
     "text": [
      "http://www.religionresourcesonline.org/bible-quiz/print-52-women-in-the-old-testament-bible-quiz\n",
      "http://www.religionresourcesonline.org/bible-quiz/answers-52-women-in-the-old-testament-bible-quiz\n",
      "http://www.religionresourcesonline.org/bible-quiz/print-33-bible-quiz-who-said-that-new-testament-2\n",
      "http://www.religionresourcesonline.org/bible-quiz/answers-33-bible-quiz-who-said-that-new-testament-2\n",
      "http://www.religionresourcesonline.org/bible-quiz/print-3-bible-quiz-the-creation\n",
      "http://www.religionresourcesonline.org/bible-quiz/answers-3-bible-quiz-the-creation\n",
      "http://www.religionresourcesonline.org/bible-quiz/print-9-bible-quiz-noah-and-the-ark\n",
      "http://www.religionresourcesonline.org/bible-quiz/answers-9-bible-quiz-noah-and-the-ark\n",
      "http://www.religionresourcesonline.org/bible-quiz/print-302-bible-quiz-on-luke\n",
      "http://www.religionresourcesonline.org/bible-quiz/answers-302-bible-quiz-on-luke\n",
      "http://www.religionresourcesonline.org/bible-quiz/print-17-bible-quiz-moses-in-egypt\n",
      "http://www.religionresourcesonline.org/bible-quiz/answers-17-bible-quiz-moses-in-egypt\n",
      "http://www.religionresourcesonline.org/bible-quiz/print-14-jesus-parables-bible-quiz-hard\n",
      "http://www.religionresourcesonline.org/bible-quiz/answers-14-jesus-parables-bible-quiz-hard\n",
      "http://www.religionresourcesonline.org/bible-quiz/print-42-bible-quiz-plants-in-the-bible\n",
      "http://www.religionresourcesonline.org/bible-quiz/answers-42-bible-quiz-plants-in-the-bible\n",
      "http://www.religionresourcesonline.org/bible-quiz/print-13-bible-quiz-on-jesus-youth\n",
      "http://www.religionresourcesonline.org/bible-quiz/answers-13-bible-quiz-on-jesus-youth\n",
      "http://www.religionresourcesonline.org/bible-quiz/print-31-fillintheblank-bible-quiz-new-testament-scriptures-1\n",
      "http://www.religionresourcesonline.org/bible-quiz/answers-31-fillintheblank-bible-quiz-new-testament-scriptures-1\n",
      "http://www.religionresourcesonline.org/bible-quiz/print-18-bible-quiz-40-years-in-the-wilderness\n",
      "http://www.religionresourcesonline.org/bible-quiz/answers-18-bible-quiz-40-years-in-the-wilderness\n",
      "http://www.religionresourcesonline.org/bible-quiz/print-20-bible-quiz-jesus-baptism\n",
      "http://www.religionresourcesonline.org/bible-quiz/answers-20-bible-quiz-jesus-baptism\n",
      "http://www.religionresourcesonline.org/bible-quiz/print-178-bible-quiz-on-moses-plagues-on-egypt\n",
      "http://www.religionresourcesonline.org/bible-quiz/answers-178-bible-quiz-on-moses-plagues-on-egypt\n",
      "http://www.religionresourcesonline.org/bible-quiz/print-21-bible-quiz-biblical-name-meanings-ae\n",
      "http://www.religionresourcesonline.org/bible-quiz/answers-21-bible-quiz-biblical-name-meanings-ae\n",
      "http://www.religionresourcesonline.org/bible-quiz/print-23-bible-quiz-biblical-name-meanings-nz\n",
      "http://www.religionresourcesonline.org/bible-quiz/answers-23-bible-quiz-biblical-name-meanings-nz\n",
      "http://www.religionresourcesonline.org/bible-quiz/print-243-bible-quiz-what-happened-first-old-testament\n",
      "http://www.religionresourcesonline.org/bible-quiz/answers-243-bible-quiz-what-happened-first-old-testament\n",
      "http://www.religionresourcesonline.org/bible-quiz/print-107-books-of-the-old-testament-bible-quiz\n",
      "http://www.religionresourcesonline.org/bible-quiz/answers-107-books-of-the-old-testament-bible-quiz\n",
      "http://www.religionresourcesonline.org/bible-quiz/print-19-bible-quiz-biblical-name-meanings-gm\n",
      "http://www.religionresourcesonline.org/bible-quiz/answers-19-bible-quiz-biblical-name-meanings-gm\n",
      "http://www.religionresourcesonline.org/bible-quiz/print-128-bible-quiz-before-or-after-old-testament-2\n",
      "http://www.religionresourcesonline.org/bible-quiz/answers-128-bible-quiz-before-or-after-old-testament-2\n",
      "http://www.religionresourcesonline.org/bible-quiz/print-77-general-bible-quiz\n",
      "http://www.religionresourcesonline.org/bible-quiz/answers-77-general-bible-quiz\n",
      "http://www.religionresourcesonline.org/bible-quiz/print-72-genesis-to-revelation-bible-quiz\n",
      "http://www.religionresourcesonline.org/bible-quiz/answers-72-genesis-to-revelation-bible-quiz\n",
      "http://www.religionresourcesonline.org/bible-quiz/print-111-general-bible-knowledge-quiz\n",
      "http://www.religionresourcesonline.org/bible-quiz/answers-111-general-bible-knowledge-quiz\n",
      "http://www.religionresourcesonline.org/bible-quiz/print-147-first-7-books-of-the-old-testament-bible-quiz\n",
      "http://www.religionresourcesonline.org/bible-quiz/answers-147-first-7-books-of-the-old-testament-bible-quiz\n",
      "http://www.religionresourcesonline.org/bible-quiz/print-193-the-life-of-daniel-bible-quiz-part-i\n",
      "http://www.religionresourcesonline.org/bible-quiz/answers-193-the-life-of-daniel-bible-quiz-part-i\n",
      "http://www.religionresourcesonline.org/bible-quiz/print-120-sarah-bible-quiz\n",
      "http://www.religionresourcesonline.org/bible-quiz/answers-120-sarah-bible-quiz\n",
      "http://www.religionresourcesonline.org/bible-quiz/print-434-test-your-knowledge-\n",
      "http://www.religionresourcesonline.org/bible-quiz/answers-434-test-your-knowledge-\n",
      "http://www.religionresourcesonline.org/bible-quiz/print-231-lbc-week-of-april-29-bible-quiz-end-times-prophecy\n",
      "http://www.religionresourcesonline.org/bible-quiz/answers-231-lbc-week-of-april-29-bible-quiz-end-times-prophecy\n",
      "http://www.religionresourcesonline.org/bible-quiz/print-617-atarem-eexam\n",
      "http://www.religionresourcesonline.org/bible-quiz/answers-617-atarem-eexam\n",
      "http://www.religionresourcesonline.org/bible-quiz/print-226-lbc-week-of-april-8-bible-quiz\n",
      "http://www.religionresourcesonline.org/bible-quiz/answers-226-lbc-week-of-april-8-bible-quiz\n",
      "http://www.religionresourcesonline.org/bible-quiz/print-228-lbc-week-of-april-15-bible-quiz\n",
      "http://www.religionresourcesonline.org/bible-quiz/answers-228-lbc-week-of-april-15-bible-quiz\n",
      "http://www.religionresourcesonline.org/bible-quiz/print-222-lbc-catchup-bible-quiz\n",
      "http://www.religionresourcesonline.org/bible-quiz/answers-222-lbc-catchup-bible-quiz\n"
     ]
    }
   ],
   "source": [
    "valid_links = [link for link in soup.find_all('a') if not 'bible-quiz-index' in str(link)]\n",
    "for link in valid_links:\n",
    "    print(link.get('href'))"
   ]
  },
  {
   "cell_type": "code",
   "execution_count": null,
   "metadata": {
    "collapsed": true
   },
   "outputs": [],
   "source": []
  }
 ],
 "metadata": {
  "kernelspec": {
   "display_name": "Python 3",
   "language": "python",
   "name": "python3"
  },
  "language_info": {
   "codemirror_mode": {
    "name": "ipython",
    "version": 2
   },
   "file_extension": ".py",
   "mimetype": "text/x-python",
   "name": "python",
   "nbconvert_exporter": "python",
   "pygments_lexer": "ipython2",
   "version": "2.7.13"
  }
 },
 "nbformat": 4,
 "nbformat_minor": 2
}
