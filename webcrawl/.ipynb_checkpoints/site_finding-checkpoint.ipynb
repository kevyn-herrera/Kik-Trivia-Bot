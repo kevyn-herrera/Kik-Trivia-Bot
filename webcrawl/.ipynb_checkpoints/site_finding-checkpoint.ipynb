{
 "cells": [
  {
   "cell_type": "code",
   "execution_count": 2,
   "metadata": {
    "collapsed": true
   },
   "outputs": [],
   "source": [
    "from bs4 import BeautifulSoup as bs\n",
    "import urllib2"
   ]
  },
  {
   "cell_type": "code",
   "execution_count": 3,
   "metadata": {
    "collapsed": true
   },
   "outputs": [],
   "source": [
    "doc_name = 'sites.html'\n",
    "\n",
    "with open(doc_name) as fp:\n",
    "    soup = bs(fp, 'html.parser')\n",
    "# print(soup.prettify())"
   ]
  },
  {
   "cell_type": "code",
   "execution_count": 4,
   "metadata": {
    "collapsed": true
   },
   "outputs": [],
   "source": [
    "valid_links = [link.get('href') for link in soup.find_all('a') if not 'bible-quiz-index' in str(link)]\n",
    "# for link in valid_links:\n",
    "#     print(link.get('href'))"
   ]
  },
  {
   "cell_type": "code",
   "execution_count": 6,
   "metadata": {},
   "outputs": [],
   "source": [
    "for link in valid_links:\n",
    "    page = urllib2.urlopen(link).read()\n",
    "    soup = bs(page, 'html.parser')"
   ]
  },
  {
   "cell_type": "code",
   "execution_count": 10,
   "metadata": {},
   "outputs": [
    {
     "name": "stdout",
     "output_type": "stream",
     "text": [
      "['What does \"Eve\" mean?', '(Genesis 3:20)', '\"new beginnings\"', '\"mother of all living\"', '\"daughter of God\"', '\"matron of the earth\"']\n",
      "['Who married Abraham?', '(Genesis 17:15)', 'Sarah', 'Rebekah', 'Anna', 'Rachel']\n",
      "[\"Looking for a wife for Isaac, Abraham's servant found:\", '(Genesis 24:67)', 'Michal', 'Rachel', 'Rebekah', 'Leah']\n",
      "['Jacob agreed to work 7 years for the hand of:', '(Genesis 29:28)', 'Isabel', 'Hagar', 'Rachel', 'Gomer']\n",
      "['This woman promised the Lord that if He would bless her with a son, she would dedicate the boy to Him. She later bore Samuel.', '(1 Samuel 1:20)', 'Hannah', 'Jezebel', 'Bathsheba', 'Leah']\n",
      "[\"David's original wife was:\", '(1 Samuel 18:26)', 'Bathsheba', 'Leah', 'Miriam', 'Michal']\n",
      "[\"This woman remained with her mother-in-law, Naomi, after Naomi's husband and sons died.\", '(Ruth 1:16)', 'Miriam', 'Ruth', 'Esther', 'Hannah']\n",
      "['This woman rumored that Joseph tried to commit adultery with her.', '(Genesis 39:14)', \"Gideon's wife\", \"Pharaoh's wife\", \"Jacob's wife\", \"Potiphar's wife\"]\n",
      "['This harlot housed spies sent by Joshua to take the city of Jericho.', '(Joshua 2:1)', 'Jezebel', 'Leah', 'Bathsheba', 'Rahab']\n",
      "['This woman married Moses.', '(Exodus 2:21)', 'Michal', 'Jezebel', 'Rahab', 'Zipporah']\n",
      "['After David looked upon her lustfully, he had an affair with this woman that ultimately led to the death of her original husband.', '(2 Samuel 11:2)', 'Leah', 'Zipporah', 'Bathsheba', 'Rahab']\n",
      "['This woman tempted Samson to reveal the secret to his massive strength, which she used to betray him to the Philistines.', '(Judges 16:6)', 'Jezebel', 'Delilah', 'Rebekah', 'Deborah']\n",
      "['This brave Israelite woman became queen of Persia and used her influence to protect her people, the Jews.', '(Esther 7:3)', 'Naomi', 'Esther', 'Rachel', 'Ruth']\n",
      "['This woman was given to Jacob as a wife deceitfully before he could marry her younger sister, who he loved.', '(Genesis 29:25)', 'Dinah', 'Leah', 'Michal', 'Rachel']\n",
      "['The prophet Hosea was commanded to marry this woman, though she was a harlot.', '(Hosea 1:3)', 'Rahab', 'Gomer', 'Deborah', 'Bathsheba']\n",
      "[\"This Egyptian woman was Sarah's handmaiden, and bore Ishmael through Abraham.\", '(Genesis 16:15)', 'Zipporah', 'Jezebel', 'Gomer', 'Hagar']\n",
      "['This wicked queen wanted to kill the prophet Elijah.', '(1 Kings 19:2)', 'Jezebel', 'Michal', 'Zipporah', 'Hagar']\n",
      "['This woman gave birth to Moses.', '(Exodus 6:20)', 'Keturah', 'Jochebed', 'Orpah', 'Merab']\n",
      "['This woman was turned into a pillar of salt because she looked back as Sodom and Gomorrah were being destroyed.', '(Genesis 19:6)', \"Noah's wife\", \"Ishmael's wife\", \"Moses' wife\", \"Lot's wife\"]\n",
      "[\"This woman was Ruth's sister-in-law.\", '(Ruth 1:4)', 'Orpah', 'Miriam', 'Michal', 'Naomi']\n",
      "What does \"Eve\" mean?\n",
      "(Genesis 3:20)\n",
      "\"mother of all living\"\n",
      "\n",
      "Who married Abraham?\n",
      "(Genesis 17:15)\n",
      "Sarah\n",
      "\n",
      "Looking for a wife for Isaac, Abraham's servant found:\n",
      "(Genesis 24:67)\n",
      "Rebekah\n",
      "\n",
      "Jacob agreed to work 7 years for the hand of:\n",
      "(Genesis 29:28)\n",
      "Rachel\n",
      "\n",
      "This woman promised the Lord that if He would bless her with a son, she would dedicate the boy to Him. She later bore Samuel.\n",
      "(1 Samuel 1:20)\n",
      "Hannah\n",
      "\n",
      "David's original wife was:\n",
      "(1 Samuel 18:26)\n",
      "Michal\n",
      "\n",
      "This woman remained with her mother-in-law, Naomi, after Naomi's husband and sons died.\n",
      "(Ruth 1:16)\n",
      "Ruth\n",
      "\n",
      "This woman rumored that Joseph tried to commit adultery with her.\n",
      "(Genesis 39:14)\n",
      "Potiphar's wife\n",
      "\n",
      "This harlot housed spies sent by Joshua to take the city of Jericho.\n",
      "(Joshua 2:1)\n",
      "Rahab\n",
      "\n",
      "This woman married Moses.\n",
      "(Exodus 2:21)\n",
      "Zipporah\n",
      "\n",
      "After David looked upon her lustfully, he had an affair with this woman that ultimately led to the death of her original husband.\n",
      "(2 Samuel 11:2)\n",
      "Bathsheba\n",
      "\n",
      "This woman tempted Samson to reveal the secret to his massive strength, which she used to betray him to the Philistines.\n",
      "(Judges 16:6)\n",
      "Delilah\n",
      "\n",
      "This brave Israelite woman became queen of Persia and used her influence to protect her people, the Jews.\n",
      "(Esther 7:3)\n",
      "Esther\n",
      "\n",
      "This woman was given to Jacob as a wife deceitfully before he could marry her younger sister, who he loved.\n",
      "(Genesis 29:25)\n",
      "Leah\n",
      "\n",
      "The prophet Hosea was commanded to marry this woman, though she was a harlot.\n",
      "(Hosea 1:3)\n",
      "Gomer\n",
      "\n",
      "This Egyptian woman was Sarah's handmaiden, and bore Ishmael through Abraham.\n",
      "(Genesis 16:15)\n",
      "Hagar\n",
      "\n",
      "This wicked queen wanted to kill the prophet Elijah.\n",
      "(1 Kings 19:2)\n",
      "Jezebel\n",
      "\n",
      "This woman gave birth to Moses.\n",
      "(Exodus 6:20)\n",
      "Jochebed\n",
      "\n",
      "This woman was turned into a pillar of salt because she looked back as Sodom and Gomorrah were being destroyed.\n",
      "(Genesis 19:6)\n",
      "Lot's wife\n",
      "\n",
      "This woman was Ruth's sister-in-law.\n",
      "(Ruth 1:4)\n",
      "Orpah\n",
      "\n"
     ]
    }
   ],
   "source": [
    "page = urllib2.urlopen(valid_links[0]).read()\n",
    "link_html = bs(page, 'html.parser')\n",
    "for l in link_html.find_all('li', 'question'):\n",
    "    for t in l.find_all('ul', 'question-text'):\n",
    "        print([text.encode('ascii', 'ignore') for text in t.stripped_strings])\n",
    "page = urllib2.urlopen(valid_links[1]).read()\n",
    "link_html = bs(page, 'html.parser')\n",
    "for l in link_html.find_all('li', 'question'):\n",
    "    for t in l.find_all('ul', 'question-text'):\n",
    "        print(t.get_text())"
   ]
  },
  {
   "cell_type": "code",
   "execution_count": 20,
   "metadata": {},
   "outputs": [
    {
     "name": "stdout",
     "output_type": "stream",
     "text": [
      "http://www.religionresourcesonline.org/bible-quiz/print-52-women-in-the-old-testament-bible-quiz,http://www.religionresourcesonline.org/bible-quiz/answers-52-women-in-the-old-testament-bible-quiz\n",
      "http://www.religionresourcesonline.org/bible-quiz/print-33-bible-quiz-who-said-that-new-testament-2,http://www.religionresourcesonline.org/bible-quiz/answers-33-bible-quiz-who-said-that-new-testament-2\n",
      "http://www.religionresourcesonline.org/bible-quiz/print-3-bible-quiz-the-creation,http://www.religionresourcesonline.org/bible-quiz/answers-3-bible-quiz-the-creation\n",
      "http://www.religionresourcesonline.org/bible-quiz/print-9-bible-quiz-noah-and-the-ark,http://www.religionresourcesonline.org/bible-quiz/answers-9-bible-quiz-noah-and-the-ark\n",
      "http://www.religionresourcesonline.org/bible-quiz/print-302-bible-quiz-on-luke,http://www.religionresourcesonline.org/bible-quiz/answers-302-bible-quiz-on-luke\n",
      "http://www.religionresourcesonline.org/bible-quiz/print-17-bible-quiz-moses-in-egypt,http://www.religionresourcesonline.org/bible-quiz/answers-17-bible-quiz-moses-in-egypt\n",
      "http://www.religionresourcesonline.org/bible-quiz/print-14-jesus-parables-bible-quiz-hard,http://www.religionresourcesonline.org/bible-quiz/answers-14-jesus-parables-bible-quiz-hard\n",
      "http://www.religionresourcesonline.org/bible-quiz/print-42-bible-quiz-plants-in-the-bible,http://www.religionresourcesonline.org/bible-quiz/answers-42-bible-quiz-plants-in-the-bible\n",
      "http://www.religionresourcesonline.org/bible-quiz/print-13-bible-quiz-on-jesus-youth,http://www.religionresourcesonline.org/bible-quiz/answers-13-bible-quiz-on-jesus-youth\n",
      "http://www.religionresourcesonline.org/bible-quiz/print-31-fillintheblank-bible-quiz-new-testament-scriptures-1,http://www.religionresourcesonline.org/bible-quiz/answers-31-fillintheblank-bible-quiz-new-testament-scriptures-1\n",
      "http://www.religionresourcesonline.org/bible-quiz/print-18-bible-quiz-40-years-in-the-wilderness,http://www.religionresourcesonline.org/bible-quiz/answers-18-bible-quiz-40-years-in-the-wilderness\n",
      "http://www.religionresourcesonline.org/bible-quiz/print-20-bible-quiz-jesus-baptism,http://www.religionresourcesonline.org/bible-quiz/answers-20-bible-quiz-jesus-baptism\n",
      "http://www.religionresourcesonline.org/bible-quiz/print-178-bible-quiz-on-moses-plagues-on-egypt,http://www.religionresourcesonline.org/bible-quiz/answers-178-bible-quiz-on-moses-plagues-on-egypt\n",
      "http://www.religionresourcesonline.org/bible-quiz/print-21-bible-quiz-biblical-name-meanings-ae,http://www.religionresourcesonline.org/bible-quiz/answers-21-bible-quiz-biblical-name-meanings-ae\n",
      "http://www.religionresourcesonline.org/bible-quiz/print-23-bible-quiz-biblical-name-meanings-nz,http://www.religionresourcesonline.org/bible-quiz/answers-23-bible-quiz-biblical-name-meanings-nz\n",
      "http://www.religionresourcesonline.org/bible-quiz/print-243-bible-quiz-what-happened-first-old-testament,http://www.religionresourcesonline.org/bible-quiz/answers-243-bible-quiz-what-happened-first-old-testament\n",
      "http://www.religionresourcesonline.org/bible-quiz/print-107-books-of-the-old-testament-bible-quiz,http://www.religionresourcesonline.org/bible-quiz/answers-107-books-of-the-old-testament-bible-quiz\n",
      "http://www.religionresourcesonline.org/bible-quiz/print-19-bible-quiz-biblical-name-meanings-gm,http://www.religionresourcesonline.org/bible-quiz/answers-19-bible-quiz-biblical-name-meanings-gm\n",
      "http://www.religionresourcesonline.org/bible-quiz/print-128-bible-quiz-before-or-after-old-testament-2,http://www.religionresourcesonline.org/bible-quiz/answers-128-bible-quiz-before-or-after-old-testament-2\n",
      "http://www.religionresourcesonline.org/bible-quiz/print-77-general-bible-quiz,http://www.religionresourcesonline.org/bible-quiz/answers-77-general-bible-quiz\n",
      "http://www.religionresourcesonline.org/bible-quiz/print-72-genesis-to-revelation-bible-quiz,http://www.religionresourcesonline.org/bible-quiz/answers-72-genesis-to-revelation-bible-quiz\n",
      "http://www.religionresourcesonline.org/bible-quiz/print-111-general-bible-knowledge-quiz,http://www.religionresourcesonline.org/bible-quiz/answers-111-general-bible-knowledge-quiz\n",
      "http://www.religionresourcesonline.org/bible-quiz/print-147-first-7-books-of-the-old-testament-bible-quiz,http://www.religionresourcesonline.org/bible-quiz/answers-147-first-7-books-of-the-old-testament-bible-quiz\n",
      "http://www.religionresourcesonline.org/bible-quiz/print-193-the-life-of-daniel-bible-quiz-part-i,http://www.religionresourcesonline.org/bible-quiz/answers-193-the-life-of-daniel-bible-quiz-part-i\n",
      "http://www.religionresourcesonline.org/bible-quiz/print-120-sarah-bible-quiz,http://www.religionresourcesonline.org/bible-quiz/answers-120-sarah-bible-quiz\n",
      "http://www.religionresourcesonline.org/bible-quiz/print-434-test-your-knowledge-,http://www.religionresourcesonline.org/bible-quiz/answers-434-test-your-knowledge-\n",
      "http://www.religionresourcesonline.org/bible-quiz/print-231-lbc-week-of-april-29-bible-quiz-end-times-prophecy,http://www.religionresourcesonline.org/bible-quiz/answers-231-lbc-week-of-april-29-bible-quiz-end-times-prophecy\n",
      "http://www.religionresourcesonline.org/bible-quiz/print-617-atarem-eexam,http://www.religionresourcesonline.org/bible-quiz/answers-617-atarem-eexam\n",
      "http://www.religionresourcesonline.org/bible-quiz/print-226-lbc-week-of-april-8-bible-quiz,http://www.religionresourcesonline.org/bible-quiz/answers-226-lbc-week-of-april-8-bible-quiz\n",
      "http://www.religionresourcesonline.org/bible-quiz/print-228-lbc-week-of-april-15-bible-quiz,http://www.religionresourcesonline.org/bible-quiz/answers-228-lbc-week-of-april-15-bible-quiz\n",
      "http://www.religionresourcesonline.org/bible-quiz/print-222-lbc-catchup-bible-quiz,http://www.religionresourcesonline.org/bible-quiz/answers-222-lbc-catchup-bible-quiz\n"
     ]
    }
   ],
   "source": [
    "for i in range(0, len(valid_links), 2):\n",
    "        "
   ]
  },
  {
   "cell_type": "code",
   "execution_count": null,
   "metadata": {
    "collapsed": true
   },
   "outputs": [],
   "source": []
  }
 ],
 "metadata": {
  "kernelspec": {
   "display_name": "Python 3",
   "language": "python",
   "name": "python3"
  },
  "language_info": {
   "codemirror_mode": {
    "name": "ipython",
    "version": 2
   },
   "file_extension": ".py",
   "mimetype": "text/x-python",
   "name": "python",
   "nbconvert_exporter": "python",
   "pygments_lexer": "ipython2",
   "version": "2.7.13"
  }
 },
 "nbformat": 4,
 "nbformat_minor": 2
}
